{
 "cells": [
  {
   "cell_type": "code",
   "execution_count": 4,
   "metadata": {
    "collapsed": true
   },
   "outputs": [],
   "source": [
    "import re\n",
    "import numpy as np\n",
    "import pandas as pd\n",
    "from pprint import pprint\n",
    "from vaderSentiment.vaderSentiment import SentimentIntensityAnalyzer"
   ]
  },
  {
   "cell_type": "code",
   "execution_count": 2,
   "metadata": {
    "collapsed": true
   },
   "outputs": [],
   "source": [
    "analyser = SentimentIntensityAnalyzer()"
   ]
  },
  {
   "cell_type": "code",
   "execution_count": 21,
   "metadata": {
    "collapsed": true
   },
   "outputs": [],
   "source": [
    "def sentiment_analyzer_scores(sentence):\n",
    "    score = analyser.polarity_scores(sentence)\n",
    "    del score['compound']\n",
    "    return max(score.items(), key=operator.itemgetter(1))[0]"
   ]
  },
  {
   "cell_type": "code",
   "execution_count": 36,
   "metadata": {},
   "outputs": [
    {
     "data": {
      "text/html": [
       "<div>\n",
       "<style scoped>\n",
       "    .dataframe tbody tr th:only-of-type {\n",
       "        vertical-align: middle;\n",
       "    }\n",
       "\n",
       "    .dataframe tbody tr th {\n",
       "        vertical-align: top;\n",
       "    }\n",
       "\n",
       "    .dataframe thead th {\n",
       "        text-align: right;\n",
       "    }\n",
       "</style>\n",
       "<table border=\"1\" class=\"dataframe\">\n",
       "  <thead>\n",
       "    <tr style=\"text-align: right;\">\n",
       "      <th></th>\n",
       "      <th>date</th>\n",
       "      <th>pres</th>\n",
       "      <th>title</th>\n",
       "      <th>speech</th>\n",
       "      <th>sentiment</th>\n",
       "    </tr>\n",
       "    <tr>\n",
       "      <th>doc_id</th>\n",
       "      <th></th>\n",
       "      <th></th>\n",
       "      <th></th>\n",
       "      <th></th>\n",
       "      <th></th>\n",
       "    </tr>\n",
       "  </thead>\n",
       "  <tbody>\n",
       "    <tr>\n",
       "      <th>1</th>\n",
       "      <td>August 10, 1927</td>\n",
       "      <td>coolidge</td>\n",
       "      <td>Address at the Opening of Work on Mount Rushmo...</td>\n",
       "      <td>We have come here to dedicate a cornerstone th...</td>\n",
       "      <td></td>\n",
       "    </tr>\n",
       "    <tr>\n",
       "      <th>2</th>\n",
       "      <td>December 8, 1925</td>\n",
       "      <td>coolidge</td>\n",
       "      <td>Third Annual Message</td>\n",
       "      <td>Members of the Congress: In meeting the consti...</td>\n",
       "      <td></td>\n",
       "    </tr>\n",
       "    <tr>\n",
       "      <th>3</th>\n",
       "      <td>December 6, 1923</td>\n",
       "      <td>coolidge</td>\n",
       "      <td>First Annual Message</td>\n",
       "      <td>Since the close of the last Congress the Natio...</td>\n",
       "      <td></td>\n",
       "    </tr>\n",
       "    <tr>\n",
       "      <th>4</th>\n",
       "      <td>October 20, 1925</td>\n",
       "      <td>coolidge</td>\n",
       "      <td>Message Regarding Relationship of Church and S...</td>\n",
       "      <td>Mr. Moderator, Members Of The Council:\\nIt is ...</td>\n",
       "      <td></td>\n",
       "    </tr>\n",
       "    <tr>\n",
       "      <th>5</th>\n",
       "      <td>March 4, 1925</td>\n",
       "      <td>coolidge</td>\n",
       "      <td>Inaugural Address</td>\n",
       "      <td>\\nMy Countrymen:\\n\\nNo one can contemplate cur...</td>\n",
       "      <td></td>\n",
       "    </tr>\n",
       "  </tbody>\n",
       "</table>\n",
       "</div>"
      ],
      "text/plain": [
       "                    date      pres  \\\n",
       "doc_id                               \n",
       "1        August 10, 1927  coolidge   \n",
       "2       December 8, 1925  coolidge   \n",
       "3       December 6, 1923  coolidge   \n",
       "4       October 20, 1925  coolidge   \n",
       "5          March 4, 1925  coolidge   \n",
       "\n",
       "                                                    title  \\\n",
       "doc_id                                                      \n",
       "1       Address at the Opening of Work on Mount Rushmo...   \n",
       "2                                    Third Annual Message   \n",
       "3                                    First Annual Message   \n",
       "4       Message Regarding Relationship of Church and S...   \n",
       "5                                       Inaugural Address   \n",
       "\n",
       "                                                   speech sentiment  \n",
       "doc_id                                                               \n",
       "1       We have come here to dedicate a cornerstone th...            \n",
       "2       Members of the Congress: In meeting the consti...            \n",
       "3       Since the close of the last Congress the Natio...            \n",
       "4       Mr. Moderator, Members Of The Council:\\nIt is ...            \n",
       "5       \\nMy Countrymen:\\n\\nNo one can contemplate cur...            "
      ]
     },
     "execution_count": 36,
     "metadata": {},
     "output_type": "execute_result"
    }
   ],
   "source": [
    "import os\n",
    "import re\n",
    "df = pd.DataFrame()\n",
    "_id = 1\n",
    "for filename in os.listdir('./speeches'):\n",
    "    if filename == '.DS_Store':\n",
    "        continue\n",
    "    for speech in os.listdir('./speeches/' + filename):\n",
    "        temp = open('./speeches/' + filename + '/' + speech, 'r', encoding='utf-8').readlines()\n",
    "        obj = {}\n",
    "        obj['doc_id'] = _id\n",
    "        date = re.findall('\"([^\"]*)\"', temp[1])\n",
    "        obj['date'] = date[0] if len(date) > 0 else None\n",
    "        obj['pres'] = filename\n",
    "        obj['title'] = re.findall('\"([^\"]*)\"', temp[0])[0]\n",
    "        obj['speech']= \"\".join(temp[2:])\n",
    "        obj['sentiment'] = \"\"\n",
    "    \n",
    "        obj = pd.DataFrame(obj, index=[0])\n",
    "        df = df.append(obj, ignore_index=True)\n",
    "        _id += 1\n",
    "df = df.set_index(\"doc_id\")\n",
    "df.head()"
   ]
  },
  {
   "cell_type": "code",
   "execution_count": 37,
   "metadata": {
    "collapsed": true
   },
   "outputs": [],
   "source": [
    "import operator\n",
    "for index, row in df.iterrows():\n",
    "    re.sub(\"[\\<\\(\\[].*?[\\)\\]\\>]\", \"\", row['speech'])\n",
    "    row['sentiment'] = sentiment_analyzer_scores(row['speech'])\n"
   ]
  },
  {
   "cell_type": "code",
   "execution_count": null,
   "metadata": {
    "collapsed": true
   },
   "outputs": [],
   "source": [
    "alphabets= \"([A-Za-z])\"\n",
    "prefixes = \"(Mr|St|Mrs|Ms|Dr)[.]\"\n",
    "suffixes = \"(Inc|Ltd|Jr|Sr|Co)\"\n",
    "starters = \"(Mr|Mrs|Ms|Dr|He\\s|She\\s|It\\s|They\\s|Their\\s|Our\\s|We\\s|But\\s|However\\s|That\\s|This\\s|Wherever)\"\n",
    "acronyms = \"([A-Z][.][A-Z][.](?:[A-Z][.])?)\"\n",
    "websites = \"[.](com|net|org|io|gov)\"\n",
    "\n",
    "def split_into_sentences(text):\n",
    "    text = \" \" + text + \"  \"\n",
    "    text = text.replace(\"\\n\",\" \")\n",
    "    text = re.sub(prefixes,\"\\\\1<prd>\",text)\n",
    "    text = re.sub(websites,\"<prd>\\\\1\",text)\n",
    "    if \"Ph.D\" in text: text = text.replace(\"Ph.D.\",\"Ph<prd>D<prd>\")\n",
    "    text = re.sub(\"\\s\" + alphabets + \"[.] \",\" \\\\1<prd> \",text)\n",
    "    text = re.sub(acronyms+\" \"+starters,\"\\\\1<stop> \\\\2\",text)\n",
    "    text = re.sub(alphabets + \"[.]\" + alphabets + \"[.]\" + alphabets + \"[.]\",\"\\\\1<prd>\\\\2<prd>\\\\3<prd>\",text)\n",
    "    text = re.sub(alphabets + \"[.]\" + alphabets + \"[.]\",\"\\\\1<prd>\\\\2<prd>\",text)\n",
    "    text = re.sub(\" \"+suffixes+\"[.] \"+starters,\" \\\\1<stop> \\\\2\",text)\n",
    "    text = re.sub(\" \"+suffixes+\"[.]\",\" \\\\1<prd>\",text)\n",
    "    text = re.sub(\" \" + alphabets + \"[.]\",\" \\\\1<prd>\",text)\n",
    "    if \"”\" in text: text = text.replace(\".”\",\"”.\")\n",
    "    if \"\\\"\" in text: text = text.replace(\".\\\"\",\"\\\".\")\n",
    "    if \"!\" in text: text = text.replace(\"!\\\"\",\"\\\"!\")\n",
    "    if \"?\" in text: text = text.replace(\"?\\\"\",\"\\\"?\")\n",
    "    text = text.replace(\".\",\".<stop>\")\n",
    "    text = text.replace(\"?\",\"?<stop>\")\n",
    "    text = text.replace(\"!\",\"!<stop>\")\n",
    "    text = text.replace(\"<prd>\",\".\")\n",
    "    sentences = text.split(\"<stop>\")\n",
    "    sentences = sentences[:-1]\n",
    "    sentences = [s.strip() for s in sentences]\n",
    "    return sentences"
   ]
  },
  {
   "cell_type": "code",
   "execution_count": 32,
   "metadata": {},
   "outputs": [
    {
     "data": {
      "text/plain": [
       "{'adams': 0.0,\n",
       " 'arthur': 0.0,\n",
       " 'bharrison': 0.0,\n",
       " 'buchanan': 0.0,\n",
       " 'bush': 0.0,\n",
       " 'carter': 0.0,\n",
       " 'cleveland': 0.0,\n",
       " 'cleveland2': 0.0,\n",
       " 'clinton': 0.02564102564102564,\n",
       " 'coolidge': 0.0,\n",
       " 'eisenhower': 0.0,\n",
       " 'fdroosevelt': 0.0,\n",
       " 'fillmore': 0.0,\n",
       " 'ford': 0.0,\n",
       " 'garfield': 0.0,\n",
       " 'grant': 0.0,\n",
       " 'gwbush': 0.0,\n",
       " 'harding': 0.0,\n",
       " 'harrison': 0.0,\n",
       " 'hayes': 0.0,\n",
       " 'hoover': 0.0,\n",
       " 'jackson': 0.0,\n",
       " 'jefferson': 0.0,\n",
       " 'johnson': 0.0,\n",
       " 'jqadams': 0.0,\n",
       " 'kennedy': 0.0,\n",
       " 'lbjohnson': 0.0,\n",
       " 'lincoln': 0.0,\n",
       " 'madison': 0.0,\n",
       " 'mckinley': 0.0,\n",
       " 'monroe': 0.0,\n",
       " 'nixon': 0.0,\n",
       " 'obama': 0.22916666666666666,\n",
       " 'pierce': 0.0,\n",
       " 'polk': 0.0,\n",
       " 'reagan': 0.01694915254237288,\n",
       " 'roosevelt': 0.0,\n",
       " 'taft': 0.0,\n",
       " 'taylor': 0.0,\n",
       " 'truman': 0.0,\n",
       " 'trump': 0.5121951219512195,\n",
       " 'tyler': 0.0,\n",
       " 'vanburen': 0.0,\n",
       " 'washington': 0.0,\n",
       " 'wilson': 0.0}"
      ]
     },
     "execution_count": 32,
     "metadata": {},
     "output_type": "execute_result"
    }
   ],
   "source": [
    "pres_list = \"adams arthur bharrison buchanan bush carter cleveland cleveland2 clinton coolidge eisenhower fdroosevelt fillmore ford garfield grant gwbush harding harrison hayes hoover jackson jefferson johnson jqadams kennedy lbjohnson lincoln madison mckinley monroe nixon obama pierce polk reagan roosevelt taft taylor truman trump tyler vanburen washington wilson\".split()\n",
    "pres_sentiments = {}\n",
    "for pres in pres_list:\n",
    "    pres_sentiments[pres] = 0\n",
    "\n",
    "for pres in pres_list:\n",
    "    df_pres = df[df['pres']==pres]\n",
    "    data = df_pres['speech'].values.tolist()\n",
    "    compiled_speeches = \" \".join(data)\n",
    "    sentences = split_into_sentences(compiled_speeches)\n",
    "    \n",
    "    num_pos = sum([1 for sentence in sentences if sentiment_analyzer_scores(sentence) == \"pos\"])\n",
    "    \n",
    "    \n",
    "#     num_pos = len(df_pres[df_pres['sentiment']=='pos'])\n",
    "#     pres_sentiments[pres] = num_pos / len(df_pres)\n",
    "pres_sentiments"
   ]
  },
  {
   "cell_type": "code",
   "execution_count": null,
   "metadata": {
    "collapsed": true
   },
   "outputs": [],
   "source": []
  }
 ],
 "metadata": {
  "kernelspec": {
   "display_name": "Python 3",
   "language": "python",
   "name": "python3"
  },
  "language_info": {
   "codemirror_mode": {
    "name": "ipython",
    "version": 3
   },
   "file_extension": ".py",
   "mimetype": "text/x-python",
   "name": "python",
   "nbconvert_exporter": "python",
   "pygments_lexer": "ipython3",
   "version": "3.6.8"
  }
 },
 "nbformat": 4,
 "nbformat_minor": 2
}
